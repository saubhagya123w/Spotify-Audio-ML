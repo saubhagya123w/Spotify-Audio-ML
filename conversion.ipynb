{
 "cells": [
  {
   "cell_type": "code",
   "execution_count": 2,
   "id": "8d723c73",
   "metadata": {},
   "outputs": [
    {
     "name": "stdout",
     "output_type": "stream",
     "text": [
      "✅ Converted 0000 (1).parquet → data\\spotify.csv and data\\spotify.xlsx\n"
     ]
    }
   ],
   "source": [
    "import pandas as pd\n",
    "from pathlib import Path\n",
    "\n",
    "# Input parquet file (update if name is different)\n",
    "parquet_file = \"0000 (1).parquet\"\n",
    "\n",
    "# Output folder\n",
    "output_dir = Path(\"data\")\n",
    "output_dir.mkdir(parents=True, exist_ok=True)\n",
    "\n",
    "# Output file paths\n",
    "csv_file = output_dir / \"spotify.csv\"\n",
    "excel_file = output_dir / \"spotify.xlsx\"\n",
    "\n",
    "# Load parquet (engine = auto, works if pyarrow or fastparquet is installed)\n",
    "df = pd.read_parquet(parquet_file)\n",
    "\n",
    "# Save to CSV\n",
    "df.to_csv(csv_file, index=False)\n",
    "\n",
    "\n",
    "\n",
    "print(f\"✅ Converted {parquet_file} → {csv_file} and {excel_file}\")\n"
   ]
  },
  {
   "cell_type": "code",
   "execution_count": null,
   "id": "5439b2fa",
   "metadata": {},
   "outputs": [],
   "source": []
  }
 ],
 "metadata": {
  "kernelspec": {
   "display_name": "Python 3",
   "language": "python",
   "name": "python3"
  },
  "language_info": {
   "codemirror_mode": {
    "name": "ipython",
    "version": 3
   },
   "file_extension": ".py",
   "mimetype": "text/x-python",
   "name": "python",
   "nbconvert_exporter": "python",
   "pygments_lexer": "ipython3",
   "version": "3.10.0"
  }
 },
 "nbformat": 4,
 "nbformat_minor": 5
}
